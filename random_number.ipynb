{
 "cells": [
  {
   "cell_type": "code",
   "execution_count": 11,
   "metadata": {},
   "outputs": [],
   "source": [
    "from qiskit import QuantumCircuit, transpile\n",
    "from qiskit_aer import Aer"
   ]
  },
  {
   "cell_type": "code",
   "execution_count": null,
   "metadata": {},
   "outputs": [],
   "source": [
    "class QuantumDevice():\n",
    "    def __init__(self, qubit_count):\n",
    "        self.qubit_count = qubit_count\n",
    "        \n",
    "    \n",
    "    def get_random_bit(self) -> int: \n",
    "        \"\"\"\n",
    "            Creates a quantum circuit and returns a random bit: either 0 or 1\n",
    "        \"\"\"\n",
    "\n",
    "        qc = QuantumCircuit(1, 1)\n",
    "        qc = qc\n",
    "        \n",
    "        qc.h(0)\n",
    "        qc.measure(0,0)\n",
    "        backend = Aer.get_backend('aer_simulator')\n",
    "        transpiled_qc = transpile(qc, backend)\n",
    "\n",
    "        job = backend.run(transpiled_qc)\n",
    "\n",
    "        result = job.result()\n",
    "\n",
    "        counts = result.get_counts()\n",
    "        if (counts[\"0\"] > counts[\"1\"]):\n",
    "            return 0\n",
    "        elif (counts[\"0\"] < counts[\"1\"]):\n",
    "            return 1\n",
    "        else: \n",
    "            return self.get_random_bit()\n",
    "\n",
    "\n",
    "    def random(self, max_number: int) -> int:\n",
    "        \"\"\" \n",
    "            Creates a random number between zero and given max_number.\n",
    "            Returns integer\n",
    "        \"\"\"\n",
    "\n",
    "        binary_len = len(bin(max_number)[2:])\n",
    "        num_in_binary = \"\"\n",
    "\n",
    "        for i in range(binary_len):\n",
    "            \n",
    "            bit = self.get_random_bit()\n",
    "            num_in_binary += str(bit)\n",
    "\n",
    "        dec_number = int(num_in_binary, 2)\n",
    "        return dec_number"
   ]
  },
  {
   "cell_type": "code",
   "execution_count": 32,
   "metadata": {},
   "outputs": [
    {
     "name": "stdout",
     "output_type": "stream",
     "text": [
      "38\n"
     ]
    }
   ],
   "source": [
    "circ = QuantumDevice(1)\n",
    "random_number = circ.random(63)\n",
    "print(random_number)"
   ]
  }
 ],
 "metadata": {
  "kernelspec": {
   "display_name": "wenv",
   "language": "python",
   "name": "python3"
  },
  "language_info": {
   "codemirror_mode": {
    "name": "ipython",
    "version": 3
   },
   "file_extension": ".py",
   "mimetype": "text/x-python",
   "name": "python",
   "nbconvert_exporter": "python",
   "pygments_lexer": "ipython3",
   "version": "3.11.2"
  }
 },
 "nbformat": 4,
 "nbformat_minor": 2
}
